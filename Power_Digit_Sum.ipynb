{
  "nbformat": 4,
  "nbformat_minor": 0,
  "metadata": {
    "colab": {
      "provenance": [],
      "authorship_tag": "ABX9TyPUi1cqEuSSSW/yIWQ3sg5v",
      "include_colab_link": true
    },
    "kernelspec": {
      "name": "python3",
      "display_name": "Python 3"
    },
    "language_info": {
      "name": "python"
    }
  },
  "cells": [
    {
      "cell_type": "markdown",
      "metadata": {
        "id": "view-in-github",
        "colab_type": "text"
      },
      "source": [
        "<a href=\"https://colab.research.google.com/github/sllamayo/ap155_project_euler/blob/main/Power_Digit_Sum.ipynb\" target=\"_parent\"><img src=\"https://colab.research.google.com/assets/colab-badge.svg\" alt=\"Open In Colab\"/></a>"
      ]
    },
    {
      "cell_type": "code",
      "execution_count": 7,
      "metadata": {
        "colab": {
          "base_uri": "https://localhost:8080/"
        },
        "id": "t1MsDFjPQmmQ",
        "outputId": "c17d50ba-1969-435d-b482-b7b0de7df827"
      },
      "outputs": [
        {
          "output_type": "stream",
          "name": "stdout",
          "text": [
            "1366\n"
          ]
        }
      ],
      "source": [
        "import numpy as np\n",
        "value = 2**1000\n",
        "sum = 0\n",
        "digits = []\n",
        "for i in str(value):\n",
        "  digits.append(int(i))\n",
        "for j in digits:\n",
        "  sum = sum + j\n",
        "\n",
        "print(sum)"
      ]
    },
    {
      "cell_type": "code",
      "source": [],
      "metadata": {
        "id": "SLg8mVevQ8Hg"
      },
      "execution_count": null,
      "outputs": []
    }
  ]
}