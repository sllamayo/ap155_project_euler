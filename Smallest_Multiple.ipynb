{
  "nbformat": 4,
  "nbformat_minor": 0,
  "metadata": {
    "colab": {
      "provenance": [],
      "authorship_tag": "ABX9TyO1RHJ0vskldmoNgfVJS/kR",
      "include_colab_link": true
    },
    "kernelspec": {
      "name": "python3",
      "display_name": "Python 3"
    },
    "language_info": {
      "name": "python"
    }
  },
  "cells": [
    {
      "cell_type": "markdown",
      "metadata": {
        "id": "view-in-github",
        "colab_type": "text"
      },
      "source": [
        "<a href=\"https://colab.research.google.com/github/sllamayo/ap155_project_euler/blob/main/Smallest_Multiple.ipynb\" target=\"_parent\"><img src=\"https://colab.research.google.com/assets/colab-badge.svg\" alt=\"Open In Colab\"/></a>"
      ]
    },
    {
      "cell_type": "code",
      "execution_count": 9,
      "metadata": {
        "colab": {
          "base_uri": "https://localhost:8080/"
        },
        "id": "QpMiS3G-NOai",
        "outputId": "4c5316cc-214f-4d4f-f28e-3f5d408f231a"
      },
      "outputs": [
        {
          "output_type": "stream",
          "name": "stdout",
          "text": [
            "232792560\n"
          ]
        }
      ],
      "source": [
        "import numpy as np\n",
        "\n",
        "listofnumbers = range(1,21)\n",
        "\n",
        "smallestmultiple = np.lcm.reduce(listofnumbers)\n",
        "\n",
        "print(smallestmultiple)"
      ]
    },
    {
      "cell_type": "code",
      "source": [],
      "metadata": {
        "id": "_5R5qJyDPZvR"
      },
      "execution_count": null,
      "outputs": []
    }
  ]
}